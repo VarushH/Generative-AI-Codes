{
 "cells": [
  {
   "cell_type": "code",
   "execution_count": 1,
   "metadata": {},
   "outputs": [],
   "source": [
    "from langchain_openai import AzureChatOpenAI\n",
    "from langchain_core.prompts import ChatPromptTemplate\n",
    "from langchain_core.output_parsers import StrOutputParser\n",
    "import os"
   ]
  },
  {
   "cell_type": "code",
   "execution_count": null,
   "metadata": {},
   "outputs": [],
   "source": [
    "llm = AzureChatOpenAI( \n",
    "    api_key=\"#fill in the API Key form Azure Portal\", \n",
    "    azure_endpoint=\"#fill in the API endpoint form Azure Portal\", \n",
    "    azure_deployment=\"gpt-4\", \n",
    "    api_version=\"2024-05-01-preview\", \n",
    "    temperature=0, \n",
    "    max_tokens=None, \n",
    "    timeout=None, \n",
    "    max_retries=2, \n",
    "    # organization=\"...\", \n",
    "    # # model=\"gpt-35-turbo\", \n",
    "    # # model_version=\"0125\", \n",
    "    # # other params... \n",
    "    )"
   ]
  },
  {
   "cell_type": "code",
   "execution_count": 3,
   "metadata": {},
   "outputs": [],
   "source": [
    "system_prompt = ( \"\"\" You are a helpful summarizer. Summarize the user sentence. The summary should meet the following requirements: Meaningfulness: The summary should capture the core ideas of the original text without omitting key details that are essential for understanding. Clarity: Ensure the summary is coherent, grammatically correct, and easy to read. Token Limit: The number of tokens in the summary must not exceed the token count of the input paragraph. Faithfulness: Avoid introducing any new information or deviating from the context of the original text. Conciseness: Remove redundancy, unnecessary details, or filler content while retaining the essence of the original paragraph. \"\"\" ) \n",
    "chat_prompt = ChatPromptTemplate.from_messages( \n",
    "    [ \n",
    "        (\"system\", system_prompt), \n",
    "        (\"human\", \"{input}\"), \n",
    "        ] \n",
    "        )"
   ]
  },
  {
   "cell_type": "code",
   "execution_count": 4,
   "metadata": {},
   "outputs": [],
   "source": [
    "output_parser = StrOutputParser()"
   ]
  },
  {
   "cell_type": "code",
   "execution_count": 5,
   "metadata": {},
   "outputs": [],
   "source": [
    "chain = chat_prompt | llm | output_parser"
   ]
  },
  {
   "cell_type": "code",
   "execution_count": 6,
   "metadata": {},
   "outputs": [],
   "source": [
    "input_text = \" The patient is a 45-year-old male presenting with a three-month history of intermittent chest pain, primarily occurring during physical exertion. The pain is described as a dull, pressure-like sensation, localized to the left side of the chest, and occasionally radiating to the left arm. No associated shortness of breath, diaphoresis, or syncope has been reported. Past medical history includes hypertension and hyperlipidemia, both of which are managed with medication. Family history is significant for coronary artery disease, with the patient’s father experiencing a myocardial infarction at age 50. Physical examination reveals normal vital signs and no abnormalities on auscultation of the heart or lungs. An electrocardiogram (ECG) performed during the visit shows no acute changes. The clinical presentation is suggestive of stable angina, and further evaluation with stress testing and potential coronary angiography is recommended to confirm the diagnosis and guide management.\" "
   ]
  },
  {
   "cell_type": "code",
   "execution_count": 7,
   "metadata": {},
   "outputs": [
    {
     "data": {
      "text/plain": [
       "'A 45-year-old male with a history of hypertension and hyperlipidemia, and a family history of coronary artery disease, presents with intermittent, exertion-induced chest pain radiating to the left arm, without other acute symptoms. Physical exam and ECG show no abnormalities. Diagnosis of stable angina is considered, with recommendations for stress testing and possibly coronary angiography for confirmation and management.'"
      ]
     },
     "execution_count": 7,
     "metadata": {},
     "output_type": "execute_result"
    }
   ],
   "source": [
    "chain.invoke(input_text)"
   ]
  }
 ],
 "metadata": {
  "kernelspec": {
   "display_name": ".genai",
   "language": "python",
   "name": "python3"
  },
  "language_info": {
   "codemirror_mode": {
    "name": "ipython",
    "version": 3
   },
   "file_extension": ".py",
   "mimetype": "text/x-python",
   "name": "python",
   "nbconvert_exporter": "python",
   "pygments_lexer": "ipython3",
   "version": "3.12.7"
  }
 },
 "nbformat": 4,
 "nbformat_minor": 2
}
